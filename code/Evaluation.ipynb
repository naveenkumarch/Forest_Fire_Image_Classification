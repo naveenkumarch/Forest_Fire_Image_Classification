{
 "cells": [
  {
   "cell_type": "code",
   "execution_count": 50,
   "metadata": {
    "id": "cZKggmbspFpy"
   },
   "outputs": [],
   "source": [
    "# Import Libraries\n",
    "from tensorflow.keras.preprocessing.image import ImageDataGenerator\n",
    "import numpy as np\n",
    "from sklearn.metrics import confusion_matrix, accuracy_score,classification_report\n",
    "import seaborn as sns\n",
    "import matplotlib.pyplot as plt\n",
    "from tensorflow import keras "
   ]
  },
  {
   "cell_type": "code",
   "execution_count": 51,
   "metadata": {
    "id": "iNL2h1IuqC_H"
   },
   "outputs": [],
   "source": [
    "# Define path to test data \n",
    "test_path = \"../input/forest-fires-classification/Test/Test\""
   ]
  },
  {
   "cell_type": "code",
   "execution_count": 52,
   "metadata": {
    "id": "azfqXILMp1ZV",
    "outputId": "1d70594c-ae1d-49e2-b777-4946ff88986a"
   },
   "outputs": [
    {
     "name": "stdout",
     "output_type": "stream",
     "text": [
      "Found 8617 images belonging to 2 classes.\n"
     ]
    }
   ],
   "source": [
    "# Initialize tess data pipeline\n",
    "test_datagen = ImageDataGenerator(rescale=1./255)\n",
    "test_generator = test_datagen.flow_from_directory(\n",
    "        test_path,\n",
    "        target_size=(254, 254),\n",
    "        shuffle = False,\n",
    "        class_mode='binary',\n",
    "        batch_size=1)"
   ]
  },
  {
   "cell_type": "code",
   "execution_count": 53,
   "metadata": {},
   "outputs": [],
   "source": [
    "#Loading the modle from weight files\n",
    "model = keras.models.load_model('../input/forest-fires-classification/Xception_best.h5')"
   ]
  },
  {
   "cell_type": "code",
   "execution_count": 54,
   "metadata": {},
   "outputs": [],
   "source": [
    "# Extracting True Labels\n",
    "true_labels = test_generator.classes"
   ]
  },
  {
   "cell_type": "code",
   "execution_count": 55,
   "metadata": {},
   "outputs": [
    {
     "name": "stderr",
     "output_type": "stream",
     "text": [
      "/opt/conda/lib/python3.7/site-packages/tensorflow/python/keras/engine/training.py:1905: UserWarning: `Model.predict_generator` is deprecated and will be removed in a future version. Please use `Model.predict`, which supports generators.\n",
      "  warnings.warn('`Model.predict_generator` is deprecated and '\n"
     ]
    }
   ],
   "source": [
    "# Making Predictions on Test Data\n",
    "predictions = model.predict_generator(test_generator, steps=len(true_labels))"
   ]
  },
  {
   "cell_type": "code",
   "execution_count": 56,
   "metadata": {},
   "outputs": [],
   "source": [
    "# Converting sigmoid function outputs to zeros and ones\n",
    "pred_list = list(predictions)\n",
    "pred_labels = [1 if entry > 0.5 else 0 for entry in pred_list]"
   ]
  },
  {
   "cell_type": "code",
   "execution_count": 57,
   "metadata": {},
   "outputs": [
    {
     "name": "stdout",
     "output_type": "stream",
     "text": [
      "Best Accyracy attained by model is : 0.8368341650226296\n"
     ]
    }
   ],
   "source": [
    "# Calculating the accuracy scores\n",
    "print(\"Best Accyracy attained by model is :\",accuracy_score(true_labels,pred_labels))"
   ]
  },
  {
   "cell_type": "code",
   "execution_count": 58,
   "metadata": {},
   "outputs": [
    {
     "data": {
      "image/png": "[encoded data removed]",
      "text/plain": [
       "<Figure size 432x288 with 2 Axes>"
      ]
     },
     "metadata": {
      "needs_background": "light"
     },
     "output_type": "display_data"
    }
   ],
   "source": [
    "# calculating confusion matrix and plotting heat map of confusion matrix\n",
    "confu_matrix=confusion_matrix(true_labels,pred_labels)\n",
    "ax = sns.heatmap(confu_matrix,annot=True,cmap='BuGn', fmt='g',xticklabels=['Fire', 'No_Fire'], yticklabels=['Fire', 'No_Fire']).set_title('Confusion Matrix')\n",
    "fig = ax.get_figure()\n",
    "fig.savefig(\"Final_result.png\")"
   ]
  },
  {
   "cell_type": "code",
   "execution_count": 59,
   "metadata": {},
   "outputs": [
    {
     "name": "stdout",
     "output_type": "stream",
     "text": [
      "              precision    recall  f1-score   support\n",
      "\n",
      "           0       0.89      0.83      0.86      5137\n",
      "           1       0.77      0.84      0.81      3480\n",
      "\n",
      "    accuracy                           0.84      8617\n",
      "   macro avg       0.83      0.84      0.83      8617\n",
      "weighted avg       0.84      0.84      0.84      8617\n",
      "\n"
     ]
    }
   ],
   "source": [
    "print(classification_report(true_labels,pred_labels))"
   ]
  },
  {
   "cell_type": "code",
   "execution_count": null,
   "metadata": {},
   "outputs": [],
   "source": []
  }
 ],
 "metadata": {
  "kernelspec": {
   "display_name": "Python 3",
   "language": "python",
   "name": "python3"
  },
  "language_info": {
   "codemirror_mode": {
    "name": "ipython",
    "version": 3
   },
   "file_extension": ".py",
   "mimetype": "text/x-python",
   "name": "python",
   "nbconvert_exporter": "python",
   "pygments_lexer": "ipython3",
   "version": "3.8.5"
  }
 },
 "nbformat": 4,
 "nbformat_minor": 4
}
